{
 "cells": [
  {
   "cell_type": "code",
   "execution_count": 1,
   "id": "6a041ff3",
   "metadata": {},
   "outputs": [
    {
     "name": "stdout",
     "output_type": "stream",
     "text": [
      "WARNING:tensorflow:From C:\\Users\\Mehedi Hassan\\anaconda3\\lib\\site-packages\\keras\\src\\losses.py:2976: The name tf.losses.sparse_softmax_cross_entropy is deprecated. Please use tf.compat.v1.losses.sparse_softmax_cross_entropy instead.\n",
      "\n"
     ]
    }
   ],
   "source": [
    "# Import necessary libraries\n",
    "import cv2\n",
    "import numpy as np\n",
    "from mtcnn.mtcnn import MTCNN\n",
    "from keras.applications.densenet import DenseNet121\n",
    "from keras.layers import Input\n",
    "from keras.models import Model\n",
    "from keras.preprocessing.image import load_img, img_to_array"
   ]
  },
  {
   "cell_type": "code",
   "execution_count": 2,
   "id": "60c3976a",
   "metadata": {},
   "outputs": [
    {
     "name": "stdout",
     "output_type": "stream",
     "text": [
      "WARNING:tensorflow:From C:\\Users\\Mehedi Hassan\\anaconda3\\lib\\site-packages\\keras\\src\\backend.py:1398: The name tf.executing_eagerly_outside_functions is deprecated. Please use tf.compat.v1.executing_eagerly_outside_functions instead.\n",
      "\n",
      "WARNING:tensorflow:From C:\\Users\\Mehedi Hassan\\anaconda3\\lib\\site-packages\\keras\\src\\layers\\pooling\\max_pooling2d.py:161: The name tf.nn.max_pool is deprecated. Please use tf.nn.max_pool2d instead.\n",
      "\n"
     ]
    }
   ],
   "source": [
    "# Load pre-trained MTCNN model\n",
    "mtcnn_model = MTCNN()"
   ]
  },
  {
   "cell_type": "code",
   "execution_count": 3,
   "id": "49b387f7",
   "metadata": {},
   "outputs": [],
   "source": [
    "# Load pre-trained DenseNet model\n",
    "input_shape = (224, 224, 3)\n",
    "input_tensor = Input(shape=input_shape)\n",
    "densenet_model = DenseNet121(include_top=False, weights='imagenet', input_tensor=input_tensor)"
   ]
  },
  {
   "cell_type": "code",
   "execution_count": 4,
   "id": "981fba09",
   "metadata": {},
   "outputs": [],
   "source": [
    "# Load an image for face detection\n",
    "image_path = 'C:\\\\Users\\\\Mehedi Hassan\\\\Desktop\\\\file3.jpg'\n",
    "image = load_img(image_path, target_size=(224, 224))\n",
    "image_array = img_to_array(image)\n",
    "image_array = np.expand_dims(image_array, axis=0)"
   ]
  },
  {
   "cell_type": "code",
   "execution_count": 5,
   "id": "b5ffea52",
   "metadata": {},
   "outputs": [
    {
     "name": "stdout",
     "output_type": "stream",
     "text": [
      "(224, 224)\n",
      "(224, 224, 3)\n",
      "1/1 [==============================] - 0s 121ms/step\n",
      "1/1 [==============================] - 0s 84ms/step\n",
      "1/1 [==============================] - 0s 23ms/step\n",
      "1/1 [==============================] - 0s 25ms/step\n",
      "1/1 [==============================] - 0s 25ms/step\n",
      "1/1 [==============================] - 0s 24ms/step\n",
      "1/1 [==============================] - 0s 23ms/step\n",
      "1/1 [==============================] - 0s 23ms/step\n",
      "2/2 [==============================] - 0s 15ms/step\n",
      "1/1 [==============================] - 0s 142ms/step\n"
     ]
    }
   ],
   "source": [
    "# Detect faces using MTCNN\n",
    "print(image.size)\n",
    "image_array1 = np.array(image)\n",
    "print(image_array1.shape)\n",
    "faces = mtcnn_model.detect_faces(image_array1)\n",
    "for face in faces:\n",
    "    x, y, width, height = face['box']\n",
    "    cv2.rectangle(image_array[0], (x, y), (x + width, y + height), (0, 255, 0), 2)"
   ]
  },
  {
   "cell_type": "code",
   "execution_count": 6,
   "id": "c9b51775",
   "metadata": {},
   "outputs": [],
   "source": [
    "# Extract face regions\n",
    "face_regions = []\n",
    "for face in faces:\n",
    "    x, y, width, height = face['box']\n",
    "    # Ensure the bounding box is within the bounds of the image\n",
    "    x = max(0, x)\n",
    "    y = max(0, y)\n",
    "    width = min(image_array.shape[1] - x, width)\n",
    "    height = min(image_array.shape[0] - y, height)\n",
    "    cv2.rectangle(image_array[0], (x, y), (x + width, y + height), (0, 255, 0), 2)"
   ]
  },
  {
   "cell_type": "code",
   "execution_count": 7,
   "id": "cb990386",
   "metadata": {},
   "outputs": [
    {
     "name": "stdout",
     "output_type": "stream",
     "text": [
      "Number of face regions: 0\n",
      "No faces detected.\n"
     ]
    }
   ],
   "source": [
    "# Print the shapes and types of the elements in face_regions\n",
    "for i, face_region in enumerate(face_regions):\n",
    "    print(f\"Face region {i}: shape={face_region.shape}, dtype={face_region.dtype}\")\n",
    "\n",
    "# Print the length of face_regions\n",
    "print(f\"Number of face regions: {len(face_regions)}\")\n",
    "\n",
    "# Convert to float32\n",
    "face_regions = [face_region.astype('float32') for face_region in face_regions]\n",
    "\n",
    "# Normalize to 0-1\n",
    "face_regions = [face_region / 255 for face_region in face_regions]\n",
    "\n",
    "if face_regions:\n",
    "    features = densenet_model.predict(np.array(face_regions))\n",
    "else:\n",
    "    print(\"No faces detected.\")"
   ]
  },
  {
   "cell_type": "code",
   "execution_count": null,
   "id": "c7cf9aeb",
   "metadata": {},
   "outputs": [],
   "source": [
    "# Now you have the features extracted from each detected face using DenseNet!\n",
    "# You can use these features for face recognition or other tasks.\n",
    " \n",
    "# Display the image with bounding boxes around detected faces\n",
    "cv2.imshow('Detected Faces', image_array[0])\n",
    "cv2.waitKey(0)\n",
    "cv2.destroyAllWindows()"
   ]
  },
  {
   "cell_type": "code",
   "execution_count": null,
   "id": "8d3943d1",
   "metadata": {},
   "outputs": [],
   "source": []
  }
 ],
 "metadata": {
  "kernelspec": {
   "display_name": "Python 3 (ipykernel)",
   "language": "python",
   "name": "python3"
  },
  "language_info": {
   "codemirror_mode": {
    "name": "ipython",
    "version": 3
   },
   "file_extension": ".py",
   "mimetype": "text/x-python",
   "name": "python",
   "nbconvert_exporter": "python",
   "pygments_lexer": "ipython3",
   "version": "3.10.9"
  }
 },
 "nbformat": 4,
 "nbformat_minor": 5
}
